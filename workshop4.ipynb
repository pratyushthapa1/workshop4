{
  "nbformat": 4,
  "nbformat_minor": 0,
  "metadata": {
    "colab": {
      "provenance": []
    },
    "kernelspec": {
      "name": "python3",
      "display_name": "Python 3"
    },
    "language_info": {
      "name": "python"
    }
  },
  "cells": [
    {
      "cell_type": "code",
      "execution_count": 48,
      "metadata": {
        "id": "4Fp8ZWD-nERj"
      },
      "outputs": [],
      "source": [
        "import pandas as pd"
      ]
    },
    {
      "cell_type": "code",
      "source": [
        "from google.colab import drive\n",
        "drive.mount('/content/drive')"
      ],
      "metadata": {
        "colab": {
          "base_uri": "https://localhost:8080/"
        },
        "id": "4ci3kiFjnU7W",
        "outputId": "da67e972-e5ac-4fe0-e3c8-1b16a0e883ef"
      },
      "execution_count": 49,
      "outputs": [
        {
          "output_type": "stream",
          "name": "stdout",
          "text": [
            "Drive already mounted at /content/drive; to attempt to forcibly remount, call drive.mount(\"/content/drive\", force_remount=True).\n"
          ]
        }
      ]
    },
    {
      "cell_type": "code",
      "source": [
        "import pandas as pd\n",
        "import numpy as np\n",
        "df = pd.read_csv(\"/content/drive/MyDrive/diabetes.csv\")\n",
        "df.info()"
      ],
      "metadata": {
        "colab": {
          "base_uri": "https://localhost:8080/"
        },
        "id": "gEfxGPNGnhr2",
        "outputId": "04d5562a-b2ac-47a4-cd32-a543ad12503c"
      },
      "execution_count": 50,
      "outputs": [
        {
          "output_type": "stream",
          "name": "stdout",
          "text": [
            "<class 'pandas.core.frame.DataFrame'>\n",
            "RangeIndex: 768 entries, 0 to 767\n",
            "Data columns (total 9 columns):\n",
            " #   Column                    Non-Null Count  Dtype  \n",
            "---  ------                    --------------  -----  \n",
            " 0   Pregnancies               768 non-null    int64  \n",
            " 1   Glucose                   768 non-null    int64  \n",
            " 2   BloodPressure             768 non-null    int64  \n",
            " 3   SkinThickness             768 non-null    int64  \n",
            " 4   Insulin                   768 non-null    int64  \n",
            " 5   BMI                       768 non-null    float64\n",
            " 6   DiabetesPedigreeFunction  768 non-null    float64\n",
            " 7   Age                       768 non-null    int64  \n",
            " 8   Outcome                   768 non-null    int64  \n",
            "dtypes: float64(2), int64(7)\n",
            "memory usage: 54.1 KB\n"
          ]
        }
      ]
    },
    {
      "cell_type": "code",
      "source": [
        "print(\"Dataset Info:\")\n",
        "df.info()"
      ],
      "metadata": {
        "colab": {
          "base_uri": "https://localhost:8080/"
        },
        "id": "BIvlhYGClxkx",
        "outputId": "c9033edc-f3a7-4631-b189-ec00091ac251"
      },
      "execution_count": 51,
      "outputs": [
        {
          "output_type": "stream",
          "name": "stdout",
          "text": [
            "Dataset Info:\n",
            "<class 'pandas.core.frame.DataFrame'>\n",
            "RangeIndex: 768 entries, 0 to 767\n",
            "Data columns (total 9 columns):\n",
            " #   Column                    Non-Null Count  Dtype  \n",
            "---  ------                    --------------  -----  \n",
            " 0   Pregnancies               768 non-null    int64  \n",
            " 1   Glucose                   768 non-null    int64  \n",
            " 2   BloodPressure             768 non-null    int64  \n",
            " 3   SkinThickness             768 non-null    int64  \n",
            " 4   Insulin                   768 non-null    int64  \n",
            " 5   BMI                       768 non-null    float64\n",
            " 6   DiabetesPedigreeFunction  768 non-null    float64\n",
            " 7   Age                       768 non-null    int64  \n",
            " 8   Outcome                   768 non-null    int64  \n",
            "dtypes: float64(2), int64(7)\n",
            "memory usage: 54.1 KB\n"
          ]
        }
      ]
    },
    {
      "cell_type": "code",
      "source": [
        "\n",
        "print(\"\\nFirst 5 Rows of the Dataset:\")\n",
        "print(df.head())\n",
        "\n",
        "print(\"\\nMissing Values:\")\n",
        "print(df.isnull().sum())"
      ],
      "metadata": {
        "colab": {
          "base_uri": "https://localhost:8080/"
        },
        "id": "JErg11jBmFu8",
        "outputId": "9c26346b-55cf-4180-a0a4-9da31c4bd5f1"
      },
      "execution_count": 52,
      "outputs": [
        {
          "output_type": "stream",
          "name": "stdout",
          "text": [
            "\n",
            "First 5 Rows of the Dataset:\n",
            "   Pregnancies  Glucose  BloodPressure  SkinThickness  Insulin   BMI  \\\n",
            "0            6      148             72             35        0  33.6   \n",
            "1            1       85             66             29        0  26.6   \n",
            "2            8      183             64              0        0  23.3   \n",
            "3            1       89             66             23       94  28.1   \n",
            "4            0      137             40             35      168  43.1   \n",
            "\n",
            "   DiabetesPedigreeFunction  Age  Outcome  \n",
            "0                     0.627   50        1  \n",
            "1                     0.351   31        0  \n",
            "2                     0.672   32        1  \n",
            "3                     0.167   21        0  \n",
            "4                     2.288   33        1  \n",
            "\n",
            "Missing Values:\n",
            "Pregnancies                 0\n",
            "Glucose                     0\n",
            "BloodPressure               0\n",
            "SkinThickness               0\n",
            "Insulin                     0\n",
            "BMI                         0\n",
            "DiabetesPedigreeFunction    0\n",
            "Age                         0\n",
            "Outcome                     0\n",
            "dtype: int64\n"
          ]
        }
      ]
    },
    {
      "cell_type": "code",
      "source": [
        "print(\"\\nSummary Statistics:\")\n",
        "print(df.describe())"
      ],
      "metadata": {
        "colab": {
          "base_uri": "https://localhost:8080/"
        },
        "id": "JTRYutrlmSpM",
        "outputId": "b2abacc9-2a6e-4005-fbab-22593e7db393"
      },
      "execution_count": 53,
      "outputs": [
        {
          "output_type": "stream",
          "name": "stdout",
          "text": [
            "\n",
            "Summary Statistics:\n",
            "       Pregnancies     Glucose  BloodPressure  SkinThickness     Insulin  \\\n",
            "count   768.000000  768.000000     768.000000     768.000000  768.000000   \n",
            "mean      3.845052  120.894531      69.105469      20.536458   79.799479   \n",
            "std       3.369578   31.972618      19.355807      15.952218  115.244002   \n",
            "min       0.000000    0.000000       0.000000       0.000000    0.000000   \n",
            "25%       1.000000   99.000000      62.000000       0.000000    0.000000   \n",
            "50%       3.000000  117.000000      72.000000      23.000000   30.500000   \n",
            "75%       6.000000  140.250000      80.000000      32.000000  127.250000   \n",
            "max      17.000000  199.000000     122.000000      99.000000  846.000000   \n",
            "\n",
            "              BMI  DiabetesPedigreeFunction         Age     Outcome  \n",
            "count  768.000000                768.000000  768.000000  768.000000  \n",
            "mean    31.992578                  0.471876   33.240885    0.348958  \n",
            "std      7.884160                  0.331329   11.760232    0.476951  \n",
            "min      0.000000                  0.078000   21.000000    0.000000  \n",
            "25%     27.300000                  0.243750   24.000000    0.000000  \n",
            "50%     32.000000                  0.372500   29.000000    0.000000  \n",
            "75%     36.600000                  0.626250   41.000000    1.000000  \n",
            "max     67.100000                  2.420000   81.000000    1.000000  \n"
          ]
        }
      ]
    },
    {
      "cell_type": "code",
      "source": [
        "\n",
        "X = df.drop(columns=[\"Outcome\"]).values\n",
        "y = df[\"Outcome\"].values\n",
        "def train_test_split_scratch(X, y, test_size=0.3, random_seed=42):\n",
        "    np.random.seed(random_seed)\n",
        "    indices = np.arange(X.shape[0])\n",
        "    np.random.shuffle(indices)\n",
        "\n",
        "    test_split_size = int(len(X) * test_size)\n",
        "    test_indices = indices[:test_split_size]\n",
        "    train_indices = indices[test_split_size:]\n",
        "\n",
        "    X_train, X_test = X[train_indices], X[test_indices]\n",
        "    y_train, y_test = y[train_indices], y[test_indices]\n",
        "\n",
        "    return X_train, X_test, y_train, y_test\n",
        "\n",
        "X_train, X_test, y_train, y_test = train_test_split_scratch(X, y)\n",
        "\n",
        "print(\"Shapes of Train-Test Splits:\")\n",
        "print(f\"X_train: {X_train.shape}, X_test: {X_test.shape}\")\n",
        "print(f\"y_train: {y_train.shape}, y_test: {y_test.shape}\")"
      ],
      "metadata": {
        "colab": {
          "base_uri": "https://localhost:8080/"
        },
        "id": "fylnrb4-m6ib",
        "outputId": "2fe1dacd-59b0-470f-a7f4-64e6db02f4fc"
      },
      "execution_count": 54,
      "outputs": [
        {
          "output_type": "stream",
          "name": "stdout",
          "text": [
            "Shapes of Train-Test Splits:\n",
            "X_train: (538, 8), X_test: (230, 8)\n",
            "y_train: (538,), y_test: (230,)\n"
          ]
        }
      ]
    },
    {
      "cell_type": "code",
      "source": [
        "\n",
        "def euclidean_distance(point1, point2):\n",
        "    return np.sqrt(np.sum((point1 - point2) ** 2))\n",
        "\n",
        "def knn_predict_single(query, X_train, y_train, k=3):\n",
        "    distances = [euclidean_distance(query, x) for x in X_train]\n",
        "    sorted_indices = np.argsort(distances)[:k]\n",
        "    nearest_labels = y_train[sorted_indices]\n",
        "    return np.bincount(nearest_labels).argmax()\n",
        "\n",
        "def knn_predict(X_test, X_train, y_train, k=3):\n",
        "    return np.array([knn_predict_single(x, X_train, y_train, k) for x in X_test])\n"
      ],
      "metadata": {
        "id": "SUsZo1WlnARZ"
      },
      "execution_count": 55,
      "outputs": []
    },
    {
      "cell_type": "code",
      "source": [
        "#Problem-2\n",
        "from sklearn.preprocessing import StandardScaler\n",
        "\n",
        "scaler = StandardScaler()\n",
        "X_train_scaled = scaler.fit_transform(X_train)\n",
        "X_test_scaled = scaler.transform(X_test)\n",
        "\n",
        "def compute_accuracy(y_true, y_pred):\n",
        "    \"\"\"Computes the accuracy of a classification model.\"\"\"\n",
        "    correct_predictions = np.sum(y_true == y_pred)\n",
        "    total_predictions = len(y_true)\n",
        "    return (correct_predictions / total_predictions) * 100\n",
        "\n",
        "print(\"Evaluating k-NN with Scaled Data:\")\n",
        "\n",
        "k = 3\n",
        "y_pred_scaled = knn_predict(X_test_scaled, X_train_scaled, y_train, k)\n",
        "accuracy_scaled = compute_accuracy(y_test, y_pred_scaled)\n",
        "\n",
        "print(f\"Accuracy on Scaled Data with k={k}: {accuracy_scaled:.2f}%\")\n",
        "\n"
      ],
      "metadata": {
        "colab": {
          "base_uri": "https://localhost:8080/"
        },
        "id": "QoUgqs5tpiVM",
        "outputId": "ffdf996a-be88-42a3-89ee-72bc1bdf4b6f"
      },
      "execution_count": 56,
      "outputs": [
        {
          "output_type": "stream",
          "name": "stdout",
          "text": [
            "Evaluating k-NN with Scaled Data:\n",
            "Accuracy on Scaled Data with k=3: 70.87%\n"
          ]
        }
      ]
    },
    {
      "cell_type": "code",
      "source": [
        "#Problem3\n",
        "# Import necessary libraries\n",
        "import pandas as pd # This line is added to import the pandas library\n",
        "from sklearn.model_selection import train_test_split\n",
        "from sklearn.preprocessing import StandardScaler\n",
        "import matplotlib.pyplot as plt\n",
        "import numpy as np\n",
        "\n",
        "\n",
        "X = df.drop(columns=[\"Outcome\"]).values\n",
        "y = df[\"Outcome\"].values\n",
        "X_train, X_test, y_train, y_test = train_test_split(X, y, test_size=0.3, random_state=42)\n",
        "\n",
        "scaler = StandardScaler()\n",
        "X_train_scaled = scaler.fit_transform(X_train)\n",
        "X_test_scaled = scaler.transform(X_test)\n",
        "\n",
        "print(\"Train-test split and feature scaling completed!\")\n",
        "\n",
        "def euclidean_distance(point1, point2):\n",
        "    return np.sqrt(np.sum((point1 - point2) ** 2))\n",
        "\n",
        "def knn_predict_single(query, X_train, y_train, k=3):\n",
        "    distances = [euclidean_distance(query, x) for x in X_train]\n",
        "    sorted_indices = np.argsort(distances)[:k]\n",
        "    nearest_labels = y_train[sorted_indices]\n",
        "    return np.bincount(nearest_labels).argmax()\n",
        "\n",
        "def knn_predict(X_test, X_train, y_train, k=3):\n",
        "    return np.array([knn_predict_single(x, X_train, y_train, k) for x in X_test])\n",
        "\n",
        "def compute_accuracy(y_true, y_pred):\n",
        "    correct_predictions = np.sum(y_true == y_pred)\n",
        "    return (correct_predictions / len(y_true)) * 100\n",
        "\n",
        "def experiment_knn_with_scaling(X_train, y_train, X_test, y_test, X_train_scaled, X_test_scaled, k_values):\n",
        "    results = {\"Original\": {}, \"Scaled\": {}}\n",
        "\n",
        "    for k in k_values:\n",
        "        y_pred = knn_predict(X_test, X_train, y_train, k)\n",
        "        accuracy = compute_accuracy(y_test, y_pred)\n",
        "        results[\"Original\"][k] = accuracy\n",
        "\n",
        "        y_pred_scaled = knn_predict(X_test_scaled, X_train_scaled, y_train, k)\n",
        "        accuracy_scaled = compute_accuracy(y_test, y_pred_scaled)\n",
        "        results[\"Scaled\"][k] = accuracy_scaled\n",
        "\n",
        "        print(f\"k={k}: Original Accuracy={accuracy:.2f}%, Scaled Accuracy={accuracy_scaled:.2f}%\")\n",
        "\n",
        "    plt.figure(figsize=(12, 6))\n",
        "    plt.plot(k_values, list(results[\"Original\"].values()), marker='o', label=\"Original Data\")\n",
        "    plt.plot(k_values, list(results[\"Scaled\"].values()), marker='s', label=\"Scaled Data\")\n",
        "    plt.xlabel('k (Number of Neighbors)')\n",
        "    plt.ylabel('Accuracy (%)')\n",
        "    plt.title('Accuracy vs k for Original and Scaled Data')\n",
        "    plt.legend()\n",
        "    plt.grid(True)\n",
        "    plt.show()\n",
        "\n",
        "    return results\n",
        "\n",
        "k_values = range(1, 16)\n",
        "results = experiment_knn_with_scaling(X_train, y_train, X_test, y_test, X_train_scaled, X_test_scaled, k_values)\n"
      ],
      "metadata": {
        "colab": {
          "base_uri": "https://localhost:8080/"
        },
        "id": "5lA9q6ZRqfHP",
        "outputId": "0c3e7209-584d-4f64-f0c2-107509bc8faf"
      },
      "execution_count": null,
      "outputs": [
        {
          "output_type": "stream",
          "name": "stdout",
          "text": [
            "Train-test split and feature scaling completed!\n",
            "k=1: Original Accuracy=68.83%, Scaled Accuracy=63.64%\n",
            "k=2: Original Accuracy=72.73%, Scaled Accuracy=66.23%\n",
            "k=3: Original Accuracy=67.53%, Scaled Accuracy=71.00%\n",
            "k=4: Original Accuracy=72.29%, Scaled Accuracy=68.83%\n",
            "k=5: Original Accuracy=68.83%, Scaled Accuracy=70.13%\n",
            "k=6: Original Accuracy=70.13%, Scaled Accuracy=69.26%\n",
            "k=7: Original Accuracy=69.26%, Scaled Accuracy=69.70%\n",
            "k=8: Original Accuracy=71.43%, Scaled Accuracy=68.83%\n",
            "k=9: Original Accuracy=70.13%, Scaled Accuracy=69.70%\n",
            "k=10: Original Accuracy=71.86%, Scaled Accuracy=69.70%\n",
            "k=11: Original Accuracy=73.16%, Scaled Accuracy=71.00%\n"
          ]
        }
      ]
    }
  ]
}